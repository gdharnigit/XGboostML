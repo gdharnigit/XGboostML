{
 "cells": [
  {
   "cell_type": "code",
   "execution_count": 1,
   "metadata": {},
   "outputs": [
    {
     "name": "stdout",
     "output_type": "stream",
     "text": [
      "[2021-03-21 01:09:08.493863] INFO: zipline.data.bundles.quandl: Downloading WIKI metadata.\n",
      "\u001b[?25lDownloading WIKI Prices table from Quandl  [####################################]  100%          \u001b[?25h\n",
      "[2021-03-21 01:10:34.121130] INFO: zipline.data.bundles.quandl: Parsing raw data.\n",
      "[2021-03-21 01:11:00.487097] INFO: zipline.data.bundles.quandl: Generating asset metadata.\n",
      "\u001b[?25lMerging daily equity files:  [-#----------------------------------]  1731/opt/conda/envs/liveproject-zipline/lib/python3.5/site-packages/zipline/data/bcolz_daily_bars.py:367: UserWarning: Ignoring 1 values because they are out of bounds for uint32:             open  high   low  close        volume  ex_dividend  split_ratio\n",
      "2011-04-11  1.79  1.84  1.55    1.7  6.674913e+09          0.0          1.0\n",
      "  winsorise_uint32(raw_data, invalid_data_behavior, 'volume', *OHLC)\n",
      "\u001b[?25lMerging daily equity files:  [####################################]      \u001b[?25h\n",
      "[2021-03-21 01:13:29.294709] INFO: zipline.data.bundles.quandl: Parsing split data.\n",
      "[2021-03-21 01:13:29.520966] INFO: zipline.data.bundles.quandl: Parsing dividend data.\n",
      "/opt/conda/envs/liveproject-zipline/lib/python3.5/site-packages/zipline/data/adjustments.py:403: FutureWarning: Conversion of the second argument of issubdtype from `float` to `np.floating` is deprecated. In future, it will be treated as `np.float64 == np.dtype(float).type`.\n",
      "  if not np.issubdtype(actual, expected):\n",
      "[2021-03-21 01:13:30.262178] WARNING: zipline.data.adjustments: Couldn't compute ratio for dividend sid=67, ex_date=2017-11-09, amount=0.620\n",
      "[2021-03-21 01:13:30.262348] WARNING: zipline.data.adjustments: Couldn't compute ratio for dividend sid=93, ex_date=2017-11-09, amount=0.240\n",
      "[2021-03-21 01:13:30.262448] WARNING: zipline.data.adjustments: Couldn't compute ratio for dividend sid=161, ex_date=2017-11-09, amount=0.110\n",
      "[2021-03-21 01:13:30.262539] WARNING: zipline.data.adjustments: Couldn't compute ratio for dividend sid=283, ex_date=2017-11-09, amount=0.415\n",
      "[2021-03-21 01:13:30.262628] WARNING: zipline.data.adjustments: Couldn't compute ratio for dividend sid=298, ex_date=2017-11-09, amount=1.420\n",
      "[2021-03-21 01:13:30.262718] WARNING: zipline.data.adjustments: Couldn't compute ratio for dividend sid=318, ex_date=2017-11-09, amount=0.330\n",
      "[2021-03-21 01:13:30.262808] WARNING: zipline.data.adjustments: Couldn't compute ratio for dividend sid=434, ex_date=2017-11-09, amount=0.110\n",
      "[2021-03-21 01:13:30.262926] WARNING: zipline.data.adjustments: Couldn't compute ratio for dividend sid=516, ex_date=1996-05-30, amount=0.310\n",
      "[2021-03-21 01:13:30.263017] WARNING: zipline.data.adjustments: Couldn't compute ratio for dividend sid=524, ex_date=2017-11-09, amount=0.050\n",
      "[2021-03-21 01:13:30.263118] WARNING: zipline.data.adjustments: Couldn't compute ratio for dividend sid=556, ex_date=2017-11-09, amount=0.075\n",
      "[2021-03-21 01:13:30.263206] WARNING: zipline.data.adjustments: Couldn't compute ratio for dividend sid=578, ex_date=2017-11-09, amount=0.160\n",
      "[2021-03-21 01:13:30.263293] WARNING: zipline.data.adjustments: Couldn't compute ratio for dividend sid=605, ex_date=2017-11-09, amount=0.040\n",
      "[2021-03-21 01:13:30.263380] WARNING: zipline.data.adjustments: Couldn't compute ratio for dividend sid=666, ex_date=1990-03-26, amount=0.140\n",
      "[2021-03-21 01:13:30.263479] WARNING: zipline.data.adjustments: Couldn't compute ratio for dividend sid=694, ex_date=1990-03-27, amount=0.100\n",
      "[2021-03-21 01:13:30.263566] WARNING: zipline.data.adjustments: Couldn't compute ratio for dividend sid=723, ex_date=2017-11-09, amount=1.620\n",
      "[2021-03-21 01:13:30.263652] WARNING: zipline.data.adjustments: Couldn't compute ratio for dividend sid=758, ex_date=2017-11-09, amount=0.500\n",
      "[2021-03-21 01:13:30.263746] WARNING: zipline.data.adjustments: Couldn't compute ratio for dividend sid=788, ex_date=2017-11-09, amount=0.060\n",
      "[2021-03-21 01:13:30.263836] WARNING: zipline.data.adjustments: Couldn't compute ratio for dividend sid=859, ex_date=1995-05-09, amount=0.100\n",
      "[2021-03-21 01:13:30.264004] WARNING: zipline.data.adjustments: Couldn't compute ratio for dividend sid=904, ex_date=2017-11-09, amount=0.135\n",
      "[2021-03-21 01:13:30.264120] WARNING: zipline.data.adjustments: Couldn't compute ratio for dividend sid=975, ex_date=2017-11-09, amount=0.030\n",
      "[2021-03-21 01:13:30.264215] WARNING: zipline.data.adjustments: Couldn't compute ratio for dividend sid=1057, ex_date=2017-11-09, amount=0.250\n",
      "[2021-03-21 01:13:30.264306] WARNING: zipline.data.adjustments: Couldn't compute ratio for dividend sid=1088, ex_date=1990-03-26, amount=0.240\n",
      "[2021-03-21 01:13:30.264394] WARNING: zipline.data.adjustments: Couldn't compute ratio for dividend sid=1091, ex_date=2017-11-09, amount=0.075\n",
      "[2021-03-21 01:13:30.264480] WARNING: zipline.data.adjustments: Couldn't compute ratio for dividend sid=1111, ex_date=1993-03-04, amount=0.070\n",
      "[2021-03-21 01:13:30.264566] WARNING: zipline.data.adjustments: Couldn't compute ratio for dividend sid=1172, ex_date=2017-11-09, amount=0.130\n",
      "[2021-03-21 01:13:30.264661] WARNING: zipline.data.adjustments: Couldn't compute ratio for dividend sid=1209, ex_date=2017-11-09, amount=0.010\n",
      "[2021-03-21 01:13:30.264745] WARNING: zipline.data.adjustments: Couldn't compute ratio for dividend sid=1322, ex_date=1995-05-25, amount=0.150\n",
      "[2021-03-21 01:13:30.264830] WARNING: zipline.data.adjustments: Couldn't compute ratio for dividend sid=1441, ex_date=2017-11-09, amount=1.500\n",
      "[2021-03-21 01:13:30.264944] WARNING: zipline.data.adjustments: Couldn't compute ratio for dividend sid=1525, ex_date=2017-11-09, amount=0.090\n",
      "[2021-03-21 01:13:30.265032] WARNING: zipline.data.adjustments: Couldn't compute ratio for dividend sid=1600, ex_date=2015-07-06, amount=16.500\n",
      "[2021-03-21 01:13:30.265118] WARNING: zipline.data.adjustments: Couldn't compute ratio for dividend sid=1642, ex_date=2017-11-09, amount=0.270\n",
      "[2021-03-21 01:13:30.265202] WARNING: zipline.data.adjustments: Couldn't compute ratio for dividend sid=1748, ex_date=2017-11-09, amount=0.740\n",
      "[2021-03-21 01:13:30.265261] WARNING: zipline.data.adjustments: Couldn't compute ratio for dividend sid=1876, ex_date=2017-11-09, amount=0.120\n",
      "[2021-03-21 01:13:30.265339] WARNING: zipline.data.adjustments: Couldn't compute ratio for dividend sid=1922, ex_date=2017-11-09, amount=0.040\n",
      "[2021-03-21 01:13:30.265423] WARNING: zipline.data.adjustments: Couldn't compute ratio for dividend sid=1947, ex_date=1990-03-26, amount=0.150\n",
      "[2021-03-21 01:13:30.265506] WARNING: zipline.data.adjustments: Couldn't compute ratio for dividend sid=2098, ex_date=2017-11-09, amount=0.200\n",
      "[2021-03-21 01:13:30.265591] WARNING: zipline.data.adjustments: Couldn't compute ratio for dividend sid=2118, ex_date=2014-11-06, amount=0.050\n",
      "[2021-03-21 01:13:30.265674] WARNING: zipline.data.adjustments: Couldn't compute ratio for dividend sid=2120, ex_date=2017-11-09, amount=0.110\n",
      "[2021-03-21 01:13:30.265757] WARNING: zipline.data.adjustments: Couldn't compute ratio for dividend sid=2149, ex_date=2017-11-09, amount=0.330\n",
      "[2021-03-21 01:13:30.265840] WARNING: zipline.data.adjustments: Couldn't compute ratio for dividend sid=2204, ex_date=2017-11-09, amount=0.320\n",
      "[2021-03-21 01:13:30.265945] WARNING: zipline.data.adjustments: Couldn't compute ratio for dividend sid=2220, ex_date=2017-11-09, amount=0.660\n",
      "[2021-03-21 01:13:30.266030] WARNING: zipline.data.adjustments: Couldn't compute ratio for dividend sid=2281, ex_date=2017-11-09, amount=0.450\n",
      "[2021-03-21 01:13:30.266115] WARNING: zipline.data.adjustments: Couldn't compute ratio for dividend sid=2389, ex_date=2017-11-09, amount=0.140\n",
      "[2021-03-21 01:13:30.266201] WARNING: zipline.data.adjustments: Couldn't compute ratio for dividend sid=2441, ex_date=2017-11-09, amount=0.215\n",
      "[2021-03-21 01:13:30.266286] WARNING: zipline.data.adjustments: Couldn't compute ratio for dividend sid=2517, ex_date=2017-11-09, amount=0.080\n",
      "[2021-03-21 01:13:30.266370] WARNING: zipline.data.adjustments: Couldn't compute ratio for dividend sid=2582, ex_date=2017-11-09, amount=0.780\n",
      "[2021-03-21 01:13:30.266453] WARNING: zipline.data.adjustments: Couldn't compute ratio for dividend sid=2622, ex_date=2017-11-09, amount=0.390\n",
      "[2021-03-21 01:13:30.266536] WARNING: zipline.data.adjustments: Couldn't compute ratio for dividend sid=2662, ex_date=2015-01-14, amount=0.750\n",
      "[2021-03-21 01:13:30.266620] WARNING: zipline.data.adjustments: Couldn't compute ratio for dividend sid=2754, ex_date=2000-12-27, amount=0.250\n",
      "[2021-03-21 01:13:30.266702] WARNING: zipline.data.adjustments: Couldn't compute ratio for dividend sid=2754, ex_date=2009-09-11, amount=0.420\n",
      "[2021-03-21 01:13:30.266786] WARNING: zipline.data.adjustments: Couldn't compute ratio for dividend sid=2754, ex_date=2009-12-11, amount=0.420\n",
      "[2021-03-21 01:13:30.266872] WARNING: zipline.data.adjustments: Couldn't compute ratio for dividend sid=2754, ex_date=2010-03-11, amount=0.420\n",
      "[2021-03-21 01:13:30.266983] WARNING: zipline.data.adjustments: Couldn't compute ratio for dividend sid=2754, ex_date=2010-12-15, amount=0.180\n",
      "[2021-03-21 01:13:30.267067] WARNING: zipline.data.adjustments: Couldn't compute ratio for dividend sid=2766, ex_date=2017-11-09, amount=0.320\n",
      "[2021-03-21 01:13:30.267150] WARNING: zipline.data.adjustments: Couldn't compute ratio for dividend sid=2798, ex_date=2017-11-09, amount=0.065\n",
      "[2021-03-21 01:13:30.267234] WARNING: zipline.data.adjustments: Couldn't compute ratio for dividend sid=2817, ex_date=1992-03-03, amount=0.300\n",
      "[2021-03-21 01:13:30.267316] WARNING: zipline.data.adjustments: Couldn't compute ratio for dividend sid=2824, ex_date=2017-11-09, amount=0.120\n",
      "[2021-03-21 01:13:30.267400] WARNING: zipline.data.adjustments: Couldn't compute ratio for dividend sid=2843, ex_date=2017-11-09, amount=0.150\n",
      "[2021-03-21 01:13:30.267484] WARNING: zipline.data.adjustments: Couldn't compute ratio for dividend sid=2857, ex_date=2011-09-07, amount=0.410\n",
      "[2021-03-21 01:13:30.267568] WARNING: zipline.data.adjustments: Couldn't compute ratio for dividend sid=2968, ex_date=1990-03-26, amount=0.100\n",
      "[2021-03-21 01:13:30.267650] WARNING: zipline.data.adjustments: Couldn't compute ratio for dividend sid=3005, ex_date=1990-03-26, amount=0.070\n",
      "[2021-03-21 01:13:30.267733] WARNING: zipline.data.adjustments: Couldn't compute ratio for dividend sid=3078, ex_date=2014-05-12, amount=0.060\n",
      "[2021-03-21 01:13:30.267816] WARNING: zipline.data.adjustments: Couldn't compute ratio for dividend sid=3117, ex_date=2017-11-09, amount=0.430\n",
      "[2021-03-21 01:13:30.267899] WARNING: zipline.data.adjustments: Couldn't compute ratio for dividend sid=3138, ex_date=2010-08-16, amount=0.060\n",
      "[2021-03-21 01:13:30.268015] WARNING: zipline.data.adjustments: Couldn't compute ratio for dividend sid=3145, ex_date=2017-11-09, amount=0.050\n",
      "/opt/conda/envs/liveproject-zipline/lib/python3.5/site-packages/zipline/data/adjustments.py:515: RuntimeWarning: invalid value encountered in greater\n",
      "  positive_ratio_mask = ratio > 0\n",
      "[2021-03-21 01:13:30.268301] WARNING: zipline.data.adjustments: Dividend ratio <= 0 for dividend sid=501, ex_date=2006-01-03, amount=41.560\n",
      "[2021-03-21 01:13:30.268392] WARNING: zipline.data.adjustments: Dividend ratio <= 0 for dividend sid=1557, ex_date=2007-07-02, amount=88.530\n",
      "[2021-03-21 01:13:30.268478] WARNING: zipline.data.adjustments: Dividend ratio <= 0 for dividend sid=1632, ex_date=2000-07-13, amount=181.000\n",
      "[2021-03-21 01:13:30.268563] WARNING: zipline.data.adjustments: Dividend ratio <= 0 for dividend sid=1657, ex_date=2013-09-30, amount=21.355\n",
      "[2021-03-21 01:13:30.268648] WARNING: zipline.data.adjustments: Dividend ratio <= 0 for dividend sid=1775, ex_date=1994-12-01, amount=76.000\n",
      "[2021-03-21 01:13:30.268734] WARNING: zipline.data.adjustments: Dividend ratio <= 0 for dividend sid=1776, ex_date=1996-11-04, amount=36.708\n",
      "[2021-03-21 01:13:30.268819] WARNING: zipline.data.adjustments: Dividend ratio <= 0 for dividend sid=2455, ex_date=2016-10-03, amount=25.611\n",
      "[2021-03-21 01:13:30.268924] WARNING: zipline.data.adjustments: Dividend ratio <= 0 for dividend sid=2687, ex_date=2008-06-26, amount=10.000\n",
      "[2021-03-21 01:13:30.269014] WARNING: zipline.data.adjustments: Dividend ratio <= 0 for dividend sid=2900, ex_date=2007-07-02, amount=88.530\n",
      "[2021-03-21 01:13:30.269098] WARNING: zipline.data.adjustments: Dividend ratio <= 0 for dividend sid=3088, ex_date=2015-04-27, amount=31.291\n"
     ]
    }
   ],
   "source": [
    "!zipline ingest "
   ]
  },
  {
   "cell_type": "code",
   "execution_count": 2,
   "metadata": {},
   "outputs": [
    {
     "name": "stdout",
     "output_type": "stream",
     "text": [
      "csvdir <no ingestions>\r\n",
      "quandl 2021-03-21 01:09:08.105155\r\n",
      "quantopian-quandl <no ingestions>\r\n"
     ]
    }
   ],
   "source": [
    "!zipline bundles\n"
   ]
  },
  {
   "cell_type": "code",
   "execution_count": 32,
   "metadata": {},
   "outputs": [],
   "source": [
    "df = pd.read_csv('us_stocks.csv')\n"
   ]
  },
  {
   "cell_type": "code",
   "execution_count": 33,
   "metadata": {},
   "outputs": [
    {
     "data": {
      "text/plain": [
       "Index(['ticker', 'date', 'open', 'high', 'low', 'close', 'volume',\n",
       "       'ex-dividend', 'split_ratio', 'adj_open', 'adj_high', 'adj_low',\n",
       "       'adj_close', 'adj_volume'],\n",
       "      dtype='object')"
      ]
     },
     "execution_count": 33,
     "metadata": {},
     "output_type": "execute_result"
    }
   ],
   "source": [
    "df.columns"
   ]
  }
 ],
 "metadata": {
  "kernelspec": {
   "display_name": "Python [conda env:liveproject-zipline]",
   "language": "python",
   "name": "conda-env-liveproject-zipline-py"
  },
  "language_info": {
   "codemirror_mode": {
    "name": "ipython",
    "version": 3
   },
   "file_extension": ".py",
   "mimetype": "text/x-python",
   "name": "python",
   "nbconvert_exporter": "python",
   "pygments_lexer": "ipython3",
   "version": "3.5.6"
  }
 },
 "nbformat": 4,
 "nbformat_minor": 4
}
